{
 "cells": [
  {
   "cell_type": "code",
   "execution_count": 2,
   "metadata": {},
   "outputs": [],
   "source": [
    "from lxml import html\n",
    "import requests\n",
    "import re\n",
    "import os"
   ]
  },
  {
   "cell_type": "code",
   "execution_count": 2,
   "metadata": {},
   "outputs": [],
   "source": [
    "page = requests.get('https://datos.profeco.gob.mx/datos_abiertos/qqp.php')\n",
    "tree = html.fromstring(page.content)"
   ]
  },
  {
   "cell_type": "code",
   "execution_count": 66,
   "metadata": {},
   "outputs": [
    {
     "data": {
      "text/plain": [
       "['file.php?t=ac07fbc4a9fd1d925384aff634f11071',\n",
       " 'file.php?t=f3270d227f2966e6138a3ed41a9bbfb7',\n",
       " 'file.php?t=af88f42c5cb82c6c35dd962b1ae69051',\n",
       " 'file.php?t=493b83b886f0266909d783fc8f776b11',\n",
       " 'file.php?t=4df382eefa26f1f0d28d3a11aaf41add',\n",
       " 'file.php?t=09939d92d2afcde64dbc06e057877e16',\n",
       " 'file.php?t=01fafa951fb6c82e6e4bb491af8f1688',\n",
       " 'file.php?t=059e79ffa462f6f51ed3aa1dbfa83a70',\n",
       " 'file.php?t=c388a30cb3f4b4c4fa29302618ef5557',\n",
       " 'file.php?t=4ecfa981c01e742a5461bf543a7b4108']"
      ]
     },
     "execution_count": 66,
     "metadata": {},
     "output_type": "execute_result"
    }
   ],
   "source": [
    "links = tree.xpath('/html/body/main/div/div//@href')\n",
    "links"
   ]
  },
  {
   "cell_type": "code",
   "execution_count": 17,
   "metadata": {},
   "outputs": [
    {
     "data": {
      "text/plain": [
       "['Base de Datos Histórica Quién es Quién en los Precios 2024',\n",
       " 'Base de Datos Histórica Quién es Quién en los Precios 2023',\n",
       " 'Base de Datos Histórica Quién es Quién en los Precios 2022',\n",
       " 'Base de Datos Histórica Quién es Quién en los Precios 2021',\n",
       " 'Base de Datos Histórica Quién es Quién en los Precios 2020',\n",
       " 'Base de Datos Histórica Quién es Quién en los Precios 2019',\n",
       " 'Base de Datos Histórica Quién es Quién en los Precios 2018',\n",
       " 'Base de Datos Histórica Quién es Quién en los Precios 2017',\n",
       " 'Base de Datos Histórica Quién es Quién en los Precios 2016',\n",
       " 'Base de Datos Histórica Quién es Quién en los Precios 2015']"
      ]
     },
     "execution_count": 17,
     "metadata": {},
     "output_type": "execute_result"
    }
   ],
   "source": [
    "names = tree.xpath('/html/body/main/div/div//a/text()')\n",
    "names"
   ]
  },
  {
   "cell_type": "code",
   "execution_count": 37,
   "metadata": {},
   "outputs": [
    {
     "data": {
      "text/plain": [
       "['QQP_2024',\n",
       " 'QQP_2023',\n",
       " 'QQP_2022',\n",
       " 'QQP_2021',\n",
       " 'QQP_2020',\n",
       " 'QQP_2019',\n",
       " 'QQP_2018',\n",
       " 'QQP_2017',\n",
       " 'QQP_2016',\n",
       " 'QQP_2015']"
      ]
     },
     "execution_count": 37,
     "metadata": {},
     "output_type": "execute_result"
    }
   ],
   "source": [
    "clean_year = ['QQP_'+re.findall(r'\\d+',s)[0] for s in names]\n",
    "clean_year"
   ]
  },
  {
   "cell_type": "code",
   "execution_count": 54,
   "metadata": {},
   "outputs": [
    {
     "data": {
      "text/plain": [
       "{'QQP_2024': 'file.php?t=ac07fbc4a9fd1d925384aff634f11071',\n",
       " 'QQP_2023': 'file.php?t=f3270d227f2966e6138a3ed41a9bbfb7',\n",
       " 'QQP_2022': 'file.php?t=af88f42c5cb82c6c35dd962b1ae69051',\n",
       " 'QQP_2021': 'file.php?t=493b83b886f0266909d783fc8f776b11',\n",
       " 'QQP_2020': 'file.php?t=4df382eefa26f1f0d28d3a11aaf41add',\n",
       " 'QQP_2019': 'file.php?t=09939d92d2afcde64dbc06e057877e16',\n",
       " 'QQP_2018': 'file.php?t=01fafa951fb6c82e6e4bb491af8f1688',\n",
       " 'QQP_2017': 'file.php?t=059e79ffa462f6f51ed3aa1dbfa83a70',\n",
       " 'QQP_2016': 'file.php?t=c388a30cb3f4b4c4fa29302618ef5557',\n",
       " 'QQP_2015': 'file.php?t=4ecfa981c01e742a5461bf543a7b4108'}"
      ]
     },
     "execution_count": 54,
     "metadata": {},
     "output_type": "execute_result"
    }
   ],
   "source": [
    "pages = dict(zip(clean_year,links))\n",
    "pages"
   ]
  },
  {
   "cell_type": "code",
   "execution_count": 56,
   "metadata": {},
   "outputs": [],
   "source": [
    "def create_folder_if_not_exists(folder_name):\n",
    "    if not os.path.exists(folder_name):\n",
    "        os.makedirs(folder_name)\n",
    "        print(f\"The folder '{folder_name}' has been created.\")\n",
    "    else:\n",
    "        print(f\"The folder '{folder_name}' already exists.\")"
   ]
  },
  {
   "cell_type": "code",
   "execution_count": 65,
   "metadata": {},
   "outputs": [
    {
     "name": "stdout",
     "output_type": "stream",
     "text": [
      "QQP_2024 -> file.php?t=ac07fbc4a9fd1d925384aff634f11071\n",
      "QQP_2023 -> file.php?t=f3270d227f2966e6138a3ed41a9bbfb7\n",
      "QQP_2022 -> file.php?t=af88f42c5cb82c6c35dd962b1ae69051\n",
      "QQP_2021 -> file.php?t=493b83b886f0266909d783fc8f776b11\n",
      "QQP_2020 -> file.php?t=4df382eefa26f1f0d28d3a11aaf41add\n",
      "QQP_2019 -> file.php?t=09939d92d2afcde64dbc06e057877e16\n",
      "QQP_2018 -> file.php?t=01fafa951fb6c82e6e4bb491af8f1688\n",
      "QQP_2017 -> file.php?t=059e79ffa462f6f51ed3aa1dbfa83a70\n",
      "QQP_2016 -> file.php?t=c388a30cb3f4b4c4fa29302618ef5557\n",
      "QQP_2015 -> file.php?t=4ecfa981c01e742a5461bf543a7b4108\n"
     ]
    }
   ],
   "source": [
    "for year in pages:\n",
    "    print(year, \"->\", pages[year])"
   ]
  },
  {
   "cell_type": "code",
   "execution_count": null,
   "metadata": {},
   "outputs": [],
   "source": [
    "home = 'https://datos.profeco.gob.mx/datos_abiertos/'"
   ]
  },
  {
   "cell_type": "code",
   "execution_count": null,
   "metadata": {},
   "outputs": [],
   "source": [
    "def download_files(home, json_pages):\n",
    "    for year in json_pages:\n",
    "        url = home + json_pages[year]\n",
    "        print('Trying to download {} -> {}'.format(url, year))\n",
    "        try:\n",
    "            response = requests.get(url)\n",
    "            if response.status_code == 200:\n",
    "                create_folder_if_not_exists(\"files/{year}\".format(year = year))\n",
    "                with open(\"files/{year}/{year}.rar\".format(year = year), \"wb\") as file:\n",
    "                    file.write(response.content)\n",
    "                    print(\"File downloaded successfully!\")\n",
    "            else:\n",
    "                print(\"Failed to download the file.\")\n",
    "        except Exception as e:\n",
    "                print(f\"Failed to open the menu. \\n Error: {e}\")"
   ]
  },
  {
   "cell_type": "code",
   "execution_count": 67,
   "metadata": {},
   "outputs": [
    {
     "name": "stdout",
     "output_type": "stream",
     "text": [
      "Trying to download https://datos.profeco.gob.mx/datos_abiertos/file.php?t=ac07fbc4a9fd1d925384aff634f11071\n",
      "The folder 'files/QQP_2024' has been created.\n",
      "File downloaded successfully!\n",
      "Trying to download https://datos.profeco.gob.mx/datos_abiertos/file.php?t=f3270d227f2966e6138a3ed41a9bbfb7\n",
      "The folder 'files/QQP_2023' has been created.\n",
      "File downloaded successfully!\n",
      "Trying to download https://datos.profeco.gob.mx/datos_abiertos/file.php?t=af88f42c5cb82c6c35dd962b1ae69051\n",
      "The folder 'files/QQP_2022' has been created.\n",
      "File downloaded successfully!\n",
      "Trying to download https://datos.profeco.gob.mx/datos_abiertos/file.php?t=493b83b886f0266909d783fc8f776b11\n",
      "The folder 'files/QQP_2021' has been created.\n",
      "File downloaded successfully!\n",
      "Trying to download https://datos.profeco.gob.mx/datos_abiertos/file.php?t=4df382eefa26f1f0d28d3a11aaf41add\n",
      "The folder 'files/QQP_2020' has been created.\n",
      "File downloaded successfully!\n",
      "Trying to download https://datos.profeco.gob.mx/datos_abiertos/file.php?t=09939d92d2afcde64dbc06e057877e16\n",
      "The folder 'files/QQP_2019' has been created.\n",
      "File downloaded successfully!\n",
      "Trying to download https://datos.profeco.gob.mx/datos_abiertos/file.php?t=01fafa951fb6c82e6e4bb491af8f1688\n",
      "The folder 'files/QQP_2018' has been created.\n",
      "File downloaded successfully!\n",
      "Trying to download https://datos.profeco.gob.mx/datos_abiertos/file.php?t=059e79ffa462f6f51ed3aa1dbfa83a70\n",
      "The folder 'files/QQP_2017' has been created.\n",
      "File downloaded successfully!\n",
      "Trying to download https://datos.profeco.gob.mx/datos_abiertos/file.php?t=c388a30cb3f4b4c4fa29302618ef5557\n",
      "The folder 'files/QQP_2016' has been created.\n",
      "File downloaded successfully!\n",
      "Trying to download https://datos.profeco.gob.mx/datos_abiertos/file.php?t=4ecfa981c01e742a5461bf543a7b4108\n",
      "The folder 'files/QQP_2015' has been created.\n",
      "File downloaded successfully!\n"
     ]
    }
   ],
   "source": [
    "download_files(home, pages)"
   ]
  }
 ],
 "metadata": {
  "kernelspec": {
   "display_name": "venv",
   "language": "python",
   "name": "python3"
  },
  "language_info": {
   "codemirror_mode": {
    "name": "ipython",
    "version": 3
   },
   "file_extension": ".py",
   "mimetype": "text/x-python",
   "name": "python",
   "nbconvert_exporter": "python",
   "pygments_lexer": "ipython3",
   "version": "3.11.5"
  }
 },
 "nbformat": 4,
 "nbformat_minor": 2
}
