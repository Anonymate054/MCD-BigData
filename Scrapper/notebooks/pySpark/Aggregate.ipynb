{
 "cells": [
  {
   "cell_type": "code",
   "execution_count": 13,
   "metadata": {},
   "outputs": [],
   "source": [
    "import warnings\n",
    "import os   \n",
    "import pandas as pd\n",
    "from pyspark.sql import SparkSession\n",
    "from pyspark.sql.functions import when, col, year, month, countDistinct, avg, stddev, max, min, expr, desc\n",
    "warnings.filterwarnings(\"ignore\")   "
   ]
  },
  {
   "cell_type": "code",
   "execution_count": 15,
   "metadata": {},
   "outputs": [],
   "source": [
    "spark = SparkSession.builder \\\n",
    "    .appName(\"Spark SQL agg\") \\\n",
    "    .config(\"spark.some.config.option\", \"some-value\") \\\n",
    "    .getOrCreate()"
   ]
  },
  {
   "cell_type": "code",
   "execution_count": 5,
   "metadata": {},
   "outputs": [
    {
     "name": "stderr",
     "output_type": "stream",
     "text": [
      "                                                                                \r"
     ]
    }
   ],
   "source": [
    "df = spark.read.csv('data.csv', header=True, inferSchema=True)\n",
    "df= df.sample(fraction=0.20, seed=42) ## solo para pruebas hay que quitar\n",
    "df.createOrReplaceTempView(\"data\")"
   ]
  },
  {
   "cell_type": "code",
   "execution_count": 7,
   "metadata": {},
   "outputs": [
    {
     "name": "stdout",
     "output_type": "stream",
     "text": [
      "+--------------------+--------------------+-----------+--------------------+------------------+------+-------------+---------------+--------------------+---------------+--------------------+--------------+--------------+---------+-----------+\n",
      "|            PRODUCTO|        PRESENTACION|      MARCA|           CATEGORIA|          CATALOGO|PRECIO|FECHAREGISTRO|CADENACOMERCIAL|                GIRO|NOMBRECOMERCIAL|           DIRECCION|        ESTADO|     MUNICIPIO|  LATITUD|   LONGITUD|\n",
      "+--------------------+--------------------+-----------+--------------------+------------------+------+-------------+---------------+--------------------+---------------+--------------------+--------------+--------------+---------+-----------+\n",
      "|              ACELGA|              MANOJO|        S/M|  HORTALIZAS FRESCAS|FRUTAS Y LEGUMBRES|   4.9|   2015-03-02| BODEGA AURRERA|SUPERMERCADO / TI...| BODEGA AURRERA|CONVENCION 1914 P...|AGUASCALIENTES|AGUASCALIENTES|21.886051|-102.312284|\n",
      "|        AGUA SIN GAS|     BOTELLA 1.5 LT.|     E.PURA| REFRESCOS ENVASADOS|           BASICOS|   9.9|   2015-03-02| BODEGA AURRERA|SUPERMERCADO / TI...| BODEGA AURRERA|CONVENCION 1914 P...|AGUASCALIENTES|AGUASCALIENTES|21.886051|-102.312284|\n",
      "|AIRES ACONDICIONADOS|W051CA, 5050 BTU'...|         LG| APARATOS ELECTRICOS| ELECTRODOMESTICOS|2599.0|   2015-03-02| BODEGA AURRERA|SUPERMERCADO / TI...| BODEGA AURRERA|CONVENCION 1914 P...|AGUASCALIENTES|AGUASCALIENTES|21.886051|-102.312284|\n",
      "|               ARROZ|BOLSA 1 KG. SUPER...|VERDE VALLE|ARROZ Y CEREALES ...|           BASICOS|  16.5|   2015-03-02| BODEGA AURRERA|SUPERMERCADO / TI...| BODEGA AURRERA|CONVENCION 1914 P...|AGUASCALIENTES|AGUASCALIENTES|21.886051|-102.312284|\n",
      "|              AZUCAR|BOLSA PLASTICO 2 ...|        S/M|              AZUCAR|           BASICOS|  38.5|   2015-03-02| BODEGA AURRERA|SUPERMERCADO / TI...| BODEGA AURRERA|CONVENCION 1914 P...|AGUASCALIENTES|AGUASCALIENTES|21.886051|-102.312284|\n",
      "+--------------------+--------------------+-----------+--------------------+------------------+------+-------------+---------------+--------------------+---------------+--------------------+--------------+--------------+---------+-----------+\n",
      "\n"
     ]
    }
   ],
   "source": [
    "## solo para dar un vistazo \n",
    "spark.sql(\"\"\"SELECT * FROM data LIMIT 5\"\"\").show()"
   ]
  },
  {
   "cell_type": "code",
   "execution_count": 9,
   "metadata": {},
   "outputs": [],
   "source": [
    "df_agg = df.withColumn(\n",
    "    \"canasta_basica\",\n",
    "    when(\n",
    "        (col(\"PRODUCTO\") == \"ACEITE\") & (col(\"PRESENTACION\") == \"BOTELLA 946 ML. MIXTO\"), 1\n",
    "    ).when(\n",
    "        (col(\"PRODUCTO\") == \"ARROZ\") & (col(\"PRESENTACION\") == \"BOLSA 1 KG. SUPER EXTRA\"), 1\n",
    "    ).when(\n",
    "        (col(\"PRODUCTO\") == \"ATUN\") & (col(\"PRESENTACION\") == \"LATA 140 GR. EN HOJUELAS EN AGUA\"), 1\n",
    "    ).when(\n",
    "        (col(\"PRODUCTO\") == \"AZUCAR\") & (col(\"PRESENTACION\") == \"BOLSA PLASTICO 2 KG. REFINADA\"), 1\n",
    "    ).when(\n",
    "        (col(\"PRODUCTO\") == \"CARNE RES\") & (col(\"PRESENTACION\") == \"1 KG. GRANEL. FALDA O PARA DESHEBRAR\"), 1\n",
    "    ).when(\n",
    "        (col(\"PRODUCTO\") == \"CEBOLLA\") & (col(\"PRESENTACION\") == \"1 KG. BLANCA SIN RABO\"), 1\n",
    "    ).when(\n",
    "        (col(\"PRODUCTO\") == \"CHILE FRESCO\") & (col(\"PRESENTACION\") == \"1 KG. JALAPEÑO O CUARESMEÑO\"), 1\n",
    "    ).when(\n",
    "        (col(\"PRODUCTO\") == \"CARNE CERDO\") & (col(\"PRESENTACION\") == \"1 KG. GRANEL. MILANESA O MILANESA DE PIERNA\"), 1\n",
    "    ).when(\n",
    "        (col(\"PRODUCTO\") == \"FRIJOL\") & (col(\"PRESENTACION\") == \"BOLSA 1 KG. NEGRO\"), 1\n",
    "    ).when(\n",
    "        (col(\"PRODUCTO\") == \"HUEVO\") & (col(\"PRESENTACION\") == \"PAQUETE CON 12 BLANCO\"), 1\n",
    "    ).when(\n",
    "        (col(\"PRODUCTO\") == \"JABON DE TOCADOR\") & (col(\"PRESENTACION\") == \"BARRA 180 GR.\"), 1\n",
    "    ).when(\n",
    "        (col(\"PRODUCTO\") == \"JITOMATE\") & (col(\"PRESENTACION\") == \"1 KG. SALADETTE/ HUAJE O TOMATE SALADETTE/ HUAJE\"), 1\n",
    "    ).when(\n",
    "        (col(\"PRODUCTO\") == \"LECHE PASTEURIZADA\") & (col(\"PRESENTACION\") == \"CAJA 1 LT.\"), 1\n",
    "    ).when(\n",
    "        (col(\"PRODUCTO\") == \"LIMON\") & (col(\"PRESENTACION\") == \"1 KG. AGRIO CON SEMILLA O LIMON COLIMA\"), 1\n",
    "    ).when(\n",
    "        (col(\"PRODUCTO\") == \"MANZANA\") & (col(\"PRESENTACION\") == \"1 KG. GOLDEN\"), 1\n",
    "    ).when(\n",
    "        (col(\"PRODUCTO\") == \"PIÑA\") & (col(\"PRESENTACION\") == \"1 KG. O PIÑA ESMERALDA O PIÑA CAYENA\"), 1\n",
    "    ).when(\n",
    "        (col(\"PRODUCTO\") == \"PAN DE CAJA\") & (col(\"PRESENTACION\") == \"PAQUETE GRANDE 680 GR. REBANADO BLANCO\"), 1\n",
    "    ).when(\n",
    "        (col(\"PRODUCTO\") == \"PAPA\") & (col(\"PRESENTACION\") == \"1 KG. ALFA/BLANCA\"), 1\n",
    "    ).when(\n",
    "        (col(\"PRODUCTO\") == \"PAPEL HIGIENICO\") & (col(\"PRESENTACION\") == \"PAQUETE 12 ROLLOS. 200 HOJAS DOBLES\"), 1\n",
    "    ).when(\n",
    "        (col(\"PRODUCTO\") == \"PASTA PARA SOPA\") & (col(\"PRESENTACION\") == \"PAQUETE 200 GR. SPAGHETTI\"), 1\n",
    "    ).when(\n",
    "        (col(\"PRODUCTO\") == \"CARNE POLLO\") & (col(\"PRESENTACION\") == \"1 KG. GRANEL. PECHUGA CON HUESO O ANATÓMICA O SIN RABADILLA (CON PIEL)\"), 1\n",
    "    ).when(\n",
    "        (col(\"PRODUCTO\") == \"SARDINA\") & (col(\"PRESENTACION\") == \"LATA 425 GR. EN TOMATE\"), 1\n",
    "    ).when(\n",
    "        (col(\"PRODUCTO\") == \"TORTILLA DE MAIZ\") & (col(\"PRESENTACION\") == \"1 KG. GRANEL\"), 1\n",
    "    ).when(\n",
    "        (col(\"PRODUCTO\") == \"ZANAHORIA\") & (col(\"PRESENTACION\") == \"1 KG. MEDIANA\"), 1\n",
    "    ).otherwise(0)\n",
    ")"
   ]
  },
  {
   "cell_type": "code",
   "execution_count": 10,
   "metadata": {},
   "outputs": [],
   "source": [
    "df_agg = df_agg.filter((col(\"canasta_basica\") == 1) & (col(\"PRECIO\").between(5, 1000)))"
   ]
  },
  {
   "cell_type": "code",
   "execution_count": 11,
   "metadata": {},
   "outputs": [],
   "source": [
    "df_agg = df_agg.groupBy(\n",
    "    col(\"FECHAREGISTRO\").alias(\"fecha\"),\n",
    "    year(col(\"FECHAREGISTRO\")).alias(\"fecha_year\"),\n",
    "    month(col(\"FECHAREGISTRO\")).alias(\"fecha_month\"),\n",
    "    col(\"PRODUCTO\").alias(\"producto\"),\n",
    "    col(\"PRESENTACION\").alias(\"descripcion\")\n",
    ").agg(\n",
    "    countDistinct(\"MARCA\").alias(\"count_marca\"),\n",
    "    countDistinct(\"NOMBRECOMERCIAL\").alias(\"count_tiendas\"),\n",
    "    countDistinct(\"ESTADO\").alias(\"count_estados\"),\n",
    "    countDistinct(\"MUNICIPIO\").alias(\"count_municipios\"),\n",
    "    avg(\"PRECIO\").alias(\"precio_avg\"),\n",
    "    stddev(\"PRECIO\").alias(\"precio_desv_std\"),\n",
    "    expr(\"percentile_approx(PRECIO, 0.5)\").alias(\"precio_median\"),\n",
    "    max(\"PRECIO\").alias(\"precio_max\"),\n",
    "    min(\"PRECIO\").alias(\"precio_min\")\n",
    ")"
   ]
  },
  {
   "cell_type": "code",
   "execution_count": 12,
   "metadata": {},
   "outputs": [
    {
     "name": "stderr",
     "output_type": "stream",
     "text": [
      "[Stage 7:>                                                        (0 + 12) / 12]\r"
     ]
    },
    {
     "name": "stdout",
     "output_type": "stream",
     "text": [
      "+----------+----------+-----------+------------------+--------------------+-----------+-------------+-------------+----------------+------------------+-------------------+-------------+----------+----------+\n",
      "|     fecha|fecha_year|fecha_month|          producto|         descripcion|count_marca|count_tiendas|count_estados|count_municipios|        precio_avg|    precio_desv_std|precio_median|precio_max|precio_min|\n",
      "+----------+----------+-----------+------------------+--------------------+-----------+-------------+-------------+----------------+------------------+-------------------+-------------+----------+----------+\n",
      "|2015-01-29|      2015|          1|  JABON DE TOCADOR|       BARRA 180 GR.|          3|           32|           17|              23|10.301764705882354|  1.035135683064274|         10.4|     12.55|       8.5|\n",
      "|2015-02-16|      2015|          2|  TORTILLA DE MAIZ|        1 KG. GRANEL|          1|           55|           19|              30|11.583432835820894| 2.2446694784289116|         11.0|      18.0|       8.6|\n",
      "|2015-03-30|      2015|          3|   PASTA PARA SOPA|PAQUETE 200 GR. S...|          1|            1|            1|               1|               5.1|               NULL|          5.1|       5.1|       5.1|\n",
      "|2015-04-09|      2015|          4|             LIMON|1 KG. AGRIO CON S...|          1|           23|           12|              17| 16.99478260869565|  2.967050677578688|         17.5|      23.9|      12.9|\n",
      "|2015-04-17|      2015|          4|LECHE PASTEURIZADA|          CAJA 1 LT.|          1|           26|           15|              20|13.811481481481481| 1.0957214121780285|         14.2|      16.0|      11.0|\n",
      "|2015-04-21|      2015|          4|            FRIJOL|   BOLSA 1 KG. NEGRO|          1|           16|           11|              14|          19.59625| 0.5081715589575366|         19.5|      20.4|      18.9|\n",
      "|2015-05-07|      2015|          5|         ZANAHORIA|       1 KG. MEDIANA|          1|           15|            9|              14|10.562666666666669| 1.8486229108897967|          9.9|      13.0|       6.9|\n",
      "|2015-05-08|      2015|          5|   PAPEL HIGIENICO|PAQUETE 12 ROLLOS...|          2|            6|            5|               5| 32.76500000000001|  4.846354299883573|         29.8|      37.9|     26.25|\n",
      "|2015-05-11|      2015|          5|  JABON DE TOCADOR|       BARRA 180 GR.|          3|           32|           19|              25|10.287999999999997|  1.295834502868144|         10.5|     12.25|       7.9|\n",
      "|2015-06-22|      2015|          6|             ARROZ|BOLSA 1 KG. SUPER...|          3|            7|            6|               7|16.514285714285712|  2.738873595372479|         17.5|      19.5|      13.5|\n",
      "|2015-07-23|      2015|          7|             HUEVO|PAQUETE CON 12 BL...|          4|           29|           18|              26|22.430645161290318| 2.4182527238812614|        21.75|      26.0|     18.85|\n",
      "|2015-08-14|      2015|          8|              ATUN|LATA 140 GR. EN H...|          1|           19|           12|              17|11.557894736842105| 1.8558663114787854|         11.0|      14.3|      8.95|\n",
      "|2015-08-21|      2015|          8|          JITOMATE|1 KG. SALADETTE/ ...|          1|            5|            4|               5|             19.54|  2.819219750214586|         20.9|      21.9|      16.1|\n",
      "|2015-08-28|      2015|          8|   PASTA PARA SOPA|PAQUETE 200 GR. S...|          2|            8|            8|               8| 5.188888888888889|0.18333333333333351|          5.1|       5.5|       5.0|\n",
      "|2015-09-02|      2015|          9|             LIMON|1 KG. AGRIO CON S...|          1|           21|           14|              19|16.673809523809524| 3.0995813849461604|         16.5|      24.9|       9.9|\n",
      "|2015-09-02|      2015|          9|           SARDINA|LATA 425 GR. EN T...|          4|           43|           22|              36|22.484807692307694| 2.6362558791459954|         22.5|     34.71|      17.9|\n",
      "|2015-09-03|      2015|          9|            FRIJOL|   BOLSA 1 KG. NEGRO|          1|           10|            7|               9|              19.8|0.43461349368017455|         19.5|      20.9|      19.5|\n",
      "|2015-09-08|      2015|          9|       CARNE POLLO|1 KG. GRANEL. PEC...|          1|           30|           15|              23|  66.8742857142857| 15.348583817736541|         66.0|      88.0|      39.9|\n",
      "|2015-09-21|      2015|          9|       CARNE POLLO|1 KG. GRANEL. PEC...|          1|           38|           23|              27| 66.50697674418603| 13.300007077492516|         69.0|      88.0|      45.0|\n",
      "|2015-09-21|      2015|          9|           CEBOLLA|1 KG. BLANCA SIN ...|          1|           19|           14|              18|18.161052631578944|  5.160870829549819|        17.99|      26.9|       8.9|\n",
      "+----------+----------+-----------+------------------+--------------------+-----------+-------------+-------------+----------------+------------------+-------------------+-------------+----------+----------+\n",
      "only showing top 20 rows\n",
      "\n"
     ]
    },
    {
     "name": "stderr",
     "output_type": "stream",
     "text": [
      "                                                                                \r"
     ]
    }
   ],
   "source": [
    "df_agg.show()"
   ]
  },
  {
   "cell_type": "code",
   "execution_count": 14,
   "metadata": {},
   "outputs": [
    {
     "name": "stderr",
     "output_type": "stream",
     "text": [
      "[Stage 11:=====================================================>  (37 + 2) / 39]\r"
     ]
    },
    {
     "name": "stdout",
     "output_type": "stream",
     "text": [
      "+------------------+-----+\n",
      "|          producto|count|\n",
      "+------------------+-----+\n",
      "|              ATUN|  246|\n",
      "|  JABON DE TOCADOR|  246|\n",
      "|           SARDINA|  246|\n",
      "|       PAN DE CAJA|  246|\n",
      "|             HUEVO|  246|\n",
      "|           CEBOLLA|  245|\n",
      "|             LIMON|  245|\n",
      "|LECHE PASTEURIZADA|  245|\n",
      "|   PAPEL HIGIENICO|  245|\n",
      "|       CARNE CERDO|  245|\n",
      "|       CARNE POLLO|  245|\n",
      "|      CHILE FRESCO|  245|\n",
      "|              PAPA|  245|\n",
      "|  TORTILLA DE MAIZ|  245|\n",
      "|          JITOMATE|  245|\n",
      "|         ZANAHORIA|  245|\n",
      "|              PIÑA|  245|\n",
      "|         CARNE RES|  245|\n",
      "|             ARROZ|  245|\n",
      "|           MANZANA|  245|\n",
      "|            AZUCAR|  245|\n",
      "|            FRIJOL|  244|\n",
      "|   PASTA PARA SOPA|  193|\n",
      "|            ACEITE|   90|\n",
      "+------------------+-----+\n",
      "\n"
     ]
    },
    {
     "name": "stderr",
     "output_type": "stream",
     "text": [
      "                                                                                \r"
     ]
    }
   ],
   "source": [
    "value_counts = df_agg.groupBy(\"producto\").count()\n",
    "value_counts_sorted = value_counts.orderBy(desc(\"count\"))\n",
    "value_counts_sorted.show(25)"
   ]
  },
  {
   "cell_type": "code",
   "execution_count": 16,
   "metadata": {},
   "outputs": [],
   "source": [
    "spark.stop()"
   ]
  },
  {
   "cell_type": "code",
   "execution_count": null,
   "metadata": {},
   "outputs": [],
   "source": []
  }
 ],
 "metadata": {
  "kernelspec": {
   "display_name": "QA_reports",
   "language": "python",
   "name": "python3"
  },
  "language_info": {
   "codemirror_mode": {
    "name": "ipython",
    "version": 3
   },
   "file_extension": ".py",
   "mimetype": "text/x-python",
   "name": "python",
   "nbconvert_exporter": "python",
   "pygments_lexer": "ipython3",
   "version": "3.8.18"
  }
 },
 "nbformat": 4,
 "nbformat_minor": 2
}
